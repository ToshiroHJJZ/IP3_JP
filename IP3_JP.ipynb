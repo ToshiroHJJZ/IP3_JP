{
 "cells": [
  {
   "cell_type": "markdown",
   "id": "79ddd64f",
   "metadata": {},
   "source": [
    "Jonathan Penaloza\n",
    "### LP3_JP"
   ]
  },
  {
   "cell_type": "markdown",
   "id": "a56e5a95",
   "metadata": {},
   "source": [
    "1.\tAttached to this assignment in Moodle is a file called weather_2012.csv. Download this file and put it in the same directory as your notebook. Read the file into a dataset named “df”."
   ]
  },
  {
   "cell_type": "code",
   "execution_count": 1,
   "id": "1f8b188f",
   "metadata": {},
   "outputs": [],
   "source": [
    "import pandas as pd\n",
    "import numpy as np"
   ]
  },
  {
   "cell_type": "code",
   "execution_count": 2,
   "id": "467e2f3d",
   "metadata": {},
   "outputs": [],
   "source": [
    "df=pd.read_csv(\"weather_2012.csv\")"
   ]
  },
  {
   "cell_type": "markdown",
   "id": "508179da",
   "metadata": {},
   "source": [
    "2.\tWrite the code to display the first five rows of the dataset, the last five rows of the dataset and a sample of five random rows from the dataset."
   ]
  },
  {
   "cell_type": "code",
   "execution_count": 3,
   "id": "331e5fd2",
   "metadata": {},
   "outputs": [
    {
     "data": {
      "text/html": [
       "<div>\n",
       "<style scoped>\n",
       "    .dataframe tbody tr th:only-of-type {\n",
       "        vertical-align: middle;\n",
       "    }\n",
       "\n",
       "    .dataframe tbody tr th {\n",
       "        vertical-align: top;\n",
       "    }\n",
       "\n",
       "    .dataframe thead th {\n",
       "        text-align: right;\n",
       "    }\n",
       "</style>\n",
       "<table border=\"1\" class=\"dataframe\">\n",
       "  <thead>\n",
       "    <tr style=\"text-align: right;\">\n",
       "      <th></th>\n",
       "      <th>Date/Time</th>\n",
       "      <th>Temp (C)</th>\n",
       "      <th>Dew Point Temp (C)</th>\n",
       "      <th>Rel Hum (%)</th>\n",
       "      <th>Wind Spd (km/h)</th>\n",
       "      <th>Visibility (km)</th>\n",
       "      <th>Stn Press (kPa)</th>\n",
       "      <th>Weather</th>\n",
       "    </tr>\n",
       "  </thead>\n",
       "  <tbody>\n",
       "    <tr>\n",
       "      <th>0</th>\n",
       "      <td>2012-01-01 00:00:00</td>\n",
       "      <td>-1.8</td>\n",
       "      <td>-3.9</td>\n",
       "      <td>86</td>\n",
       "      <td>4</td>\n",
       "      <td>8.0</td>\n",
       "      <td>101.24</td>\n",
       "      <td>Fog</td>\n",
       "    </tr>\n",
       "    <tr>\n",
       "      <th>1</th>\n",
       "      <td>2012-01-01 01:00:00</td>\n",
       "      <td>-1.8</td>\n",
       "      <td>-3.7</td>\n",
       "      <td>87</td>\n",
       "      <td>4</td>\n",
       "      <td>8.0</td>\n",
       "      <td>101.24</td>\n",
       "      <td>Fog</td>\n",
       "    </tr>\n",
       "    <tr>\n",
       "      <th>2</th>\n",
       "      <td>2012-01-01 02:00:00</td>\n",
       "      <td>-1.8</td>\n",
       "      <td>-3.4</td>\n",
       "      <td>89</td>\n",
       "      <td>7</td>\n",
       "      <td>4.0</td>\n",
       "      <td>101.26</td>\n",
       "      <td>Freezing Drizzle,Fog</td>\n",
       "    </tr>\n",
       "    <tr>\n",
       "      <th>3</th>\n",
       "      <td>2012-01-01 03:00:00</td>\n",
       "      <td>-1.5</td>\n",
       "      <td>-3.2</td>\n",
       "      <td>88</td>\n",
       "      <td>6</td>\n",
       "      <td>4.0</td>\n",
       "      <td>101.27</td>\n",
       "      <td>Freezing Drizzle,Fog</td>\n",
       "    </tr>\n",
       "    <tr>\n",
       "      <th>4</th>\n",
       "      <td>2012-01-01 04:00:00</td>\n",
       "      <td>-1.5</td>\n",
       "      <td>-3.3</td>\n",
       "      <td>88</td>\n",
       "      <td>7</td>\n",
       "      <td>4.8</td>\n",
       "      <td>101.23</td>\n",
       "      <td>Fog</td>\n",
       "    </tr>\n",
       "  </tbody>\n",
       "</table>\n",
       "</div>"
      ],
      "text/plain": [
       "             Date/Time  Temp (C)  Dew Point Temp (C)  Rel Hum (%)  \\\n",
       "0  2012-01-01 00:00:00      -1.8                -3.9           86   \n",
       "1  2012-01-01 01:00:00      -1.8                -3.7           87   \n",
       "2  2012-01-01 02:00:00      -1.8                -3.4           89   \n",
       "3  2012-01-01 03:00:00      -1.5                -3.2           88   \n",
       "4  2012-01-01 04:00:00      -1.5                -3.3           88   \n",
       "\n",
       "   Wind Spd (km/h)  Visibility (km)  Stn Press (kPa)               Weather  \n",
       "0                4              8.0           101.24                   Fog  \n",
       "1                4              8.0           101.24                   Fog  \n",
       "2                7              4.0           101.26  Freezing Drizzle,Fog  \n",
       "3                6              4.0           101.27  Freezing Drizzle,Fog  \n",
       "4                7              4.8           101.23                   Fog  "
      ]
     },
     "execution_count": 3,
     "metadata": {},
     "output_type": "execute_result"
    }
   ],
   "source": [
    "df.head(5)"
   ]
  },
  {
   "cell_type": "code",
   "execution_count": 4,
   "id": "00305ebf",
   "metadata": {},
   "outputs": [
    {
     "data": {
      "text/html": [
       "<div>\n",
       "<style scoped>\n",
       "    .dataframe tbody tr th:only-of-type {\n",
       "        vertical-align: middle;\n",
       "    }\n",
       "\n",
       "    .dataframe tbody tr th {\n",
       "        vertical-align: top;\n",
       "    }\n",
       "\n",
       "    .dataframe thead th {\n",
       "        text-align: right;\n",
       "    }\n",
       "</style>\n",
       "<table border=\"1\" class=\"dataframe\">\n",
       "  <thead>\n",
       "    <tr style=\"text-align: right;\">\n",
       "      <th></th>\n",
       "      <th>Date/Time</th>\n",
       "      <th>Temp (C)</th>\n",
       "      <th>Dew Point Temp (C)</th>\n",
       "      <th>Rel Hum (%)</th>\n",
       "      <th>Wind Spd (km/h)</th>\n",
       "      <th>Visibility (km)</th>\n",
       "      <th>Stn Press (kPa)</th>\n",
       "      <th>Weather</th>\n",
       "    </tr>\n",
       "  </thead>\n",
       "  <tbody>\n",
       "    <tr>\n",
       "      <th>8779</th>\n",
       "      <td>2012-12-31 19:00:00</td>\n",
       "      <td>0.1</td>\n",
       "      <td>-2.7</td>\n",
       "      <td>81</td>\n",
       "      <td>30</td>\n",
       "      <td>9.7</td>\n",
       "      <td>100.13</td>\n",
       "      <td>Snow</td>\n",
       "    </tr>\n",
       "    <tr>\n",
       "      <th>8780</th>\n",
       "      <td>2012-12-31 20:00:00</td>\n",
       "      <td>0.2</td>\n",
       "      <td>-2.4</td>\n",
       "      <td>83</td>\n",
       "      <td>24</td>\n",
       "      <td>9.7</td>\n",
       "      <td>100.03</td>\n",
       "      <td>Snow</td>\n",
       "    </tr>\n",
       "    <tr>\n",
       "      <th>8781</th>\n",
       "      <td>2012-12-31 21:00:00</td>\n",
       "      <td>-0.5</td>\n",
       "      <td>-1.5</td>\n",
       "      <td>93</td>\n",
       "      <td>28</td>\n",
       "      <td>4.8</td>\n",
       "      <td>99.95</td>\n",
       "      <td>Snow</td>\n",
       "    </tr>\n",
       "    <tr>\n",
       "      <th>8782</th>\n",
       "      <td>2012-12-31 22:00:00</td>\n",
       "      <td>-0.2</td>\n",
       "      <td>-1.8</td>\n",
       "      <td>89</td>\n",
       "      <td>28</td>\n",
       "      <td>9.7</td>\n",
       "      <td>99.91</td>\n",
       "      <td>Snow</td>\n",
       "    </tr>\n",
       "    <tr>\n",
       "      <th>8783</th>\n",
       "      <td>2012-12-31 23:00:00</td>\n",
       "      <td>0.0</td>\n",
       "      <td>-2.1</td>\n",
       "      <td>86</td>\n",
       "      <td>30</td>\n",
       "      <td>11.3</td>\n",
       "      <td>99.89</td>\n",
       "      <td>Snow</td>\n",
       "    </tr>\n",
       "  </tbody>\n",
       "</table>\n",
       "</div>"
      ],
      "text/plain": [
       "                Date/Time  Temp (C)  Dew Point Temp (C)  Rel Hum (%)  \\\n",
       "8779  2012-12-31 19:00:00       0.1                -2.7           81   \n",
       "8780  2012-12-31 20:00:00       0.2                -2.4           83   \n",
       "8781  2012-12-31 21:00:00      -0.5                -1.5           93   \n",
       "8782  2012-12-31 22:00:00      -0.2                -1.8           89   \n",
       "8783  2012-12-31 23:00:00       0.0                -2.1           86   \n",
       "\n",
       "      Wind Spd (km/h)  Visibility (km)  Stn Press (kPa) Weather  \n",
       "8779               30              9.7           100.13    Snow  \n",
       "8780               24              9.7           100.03    Snow  \n",
       "8781               28              4.8            99.95    Snow  \n",
       "8782               28              9.7            99.91    Snow  \n",
       "8783               30             11.3            99.89    Snow  "
      ]
     },
     "execution_count": 4,
     "metadata": {},
     "output_type": "execute_result"
    }
   ],
   "source": [
    "df.tail(5)"
   ]
  },
  {
   "cell_type": "code",
   "execution_count": 5,
   "id": "f33ae402",
   "metadata": {},
   "outputs": [
    {
     "data": {
      "text/html": [
       "<div>\n",
       "<style scoped>\n",
       "    .dataframe tbody tr th:only-of-type {\n",
       "        vertical-align: middle;\n",
       "    }\n",
       "\n",
       "    .dataframe tbody tr th {\n",
       "        vertical-align: top;\n",
       "    }\n",
       "\n",
       "    .dataframe thead th {\n",
       "        text-align: right;\n",
       "    }\n",
       "</style>\n",
       "<table border=\"1\" class=\"dataframe\">\n",
       "  <thead>\n",
       "    <tr style=\"text-align: right;\">\n",
       "      <th></th>\n",
       "      <th>Date/Time</th>\n",
       "      <th>Temp (C)</th>\n",
       "      <th>Dew Point Temp (C)</th>\n",
       "      <th>Rel Hum (%)</th>\n",
       "      <th>Wind Spd (km/h)</th>\n",
       "      <th>Visibility (km)</th>\n",
       "      <th>Stn Press (kPa)</th>\n",
       "      <th>Weather</th>\n",
       "    </tr>\n",
       "  </thead>\n",
       "  <tbody>\n",
       "    <tr>\n",
       "      <th>2777</th>\n",
       "      <td>2012-04-25 17:00:00</td>\n",
       "      <td>8.8</td>\n",
       "      <td>-1.5</td>\n",
       "      <td>48</td>\n",
       "      <td>22</td>\n",
       "      <td>48.3</td>\n",
       "      <td>100.45</td>\n",
       "      <td>Mostly Cloudy</td>\n",
       "    </tr>\n",
       "    <tr>\n",
       "      <th>7179</th>\n",
       "      <td>2012-10-26 03:00:00</td>\n",
       "      <td>7.7</td>\n",
       "      <td>6.4</td>\n",
       "      <td>91</td>\n",
       "      <td>7</td>\n",
       "      <td>25.0</td>\n",
       "      <td>101.49</td>\n",
       "      <td>Clear</td>\n",
       "    </tr>\n",
       "    <tr>\n",
       "      <th>4103</th>\n",
       "      <td>2012-06-19 23:00:00</td>\n",
       "      <td>25.3</td>\n",
       "      <td>19.3</td>\n",
       "      <td>69</td>\n",
       "      <td>13</td>\n",
       "      <td>25.0</td>\n",
       "      <td>100.89</td>\n",
       "      <td>Cloudy</td>\n",
       "    </tr>\n",
       "    <tr>\n",
       "      <th>5667</th>\n",
       "      <td>2012-08-24 03:00:00</td>\n",
       "      <td>19.6</td>\n",
       "      <td>12.4</td>\n",
       "      <td>63</td>\n",
       "      <td>13</td>\n",
       "      <td>25.0</td>\n",
       "      <td>101.64</td>\n",
       "      <td>Mainly Clear</td>\n",
       "    </tr>\n",
       "    <tr>\n",
       "      <th>8274</th>\n",
       "      <td>2012-12-10 18:00:00</td>\n",
       "      <td>1.5</td>\n",
       "      <td>1.1</td>\n",
       "      <td>97</td>\n",
       "      <td>15</td>\n",
       "      <td>12.9</td>\n",
       "      <td>99.57</td>\n",
       "      <td>Cloudy</td>\n",
       "    </tr>\n",
       "  </tbody>\n",
       "</table>\n",
       "</div>"
      ],
      "text/plain": [
       "                Date/Time  Temp (C)  Dew Point Temp (C)  Rel Hum (%)  \\\n",
       "2777  2012-04-25 17:00:00       8.8                -1.5           48   \n",
       "7179  2012-10-26 03:00:00       7.7                 6.4           91   \n",
       "4103  2012-06-19 23:00:00      25.3                19.3           69   \n",
       "5667  2012-08-24 03:00:00      19.6                12.4           63   \n",
       "8274  2012-12-10 18:00:00       1.5                 1.1           97   \n",
       "\n",
       "      Wind Spd (km/h)  Visibility (km)  Stn Press (kPa)        Weather  \n",
       "2777               22             48.3           100.45  Mostly Cloudy  \n",
       "7179                7             25.0           101.49          Clear  \n",
       "4103               13             25.0           100.89         Cloudy  \n",
       "5667               13             25.0           101.64   Mainly Clear  \n",
       "8274               15             12.9            99.57         Cloudy  "
      ]
     },
     "execution_count": 5,
     "metadata": {},
     "output_type": "execute_result"
    }
   ],
   "source": [
    "df.sample(5)"
   ]
  },
  {
   "cell_type": "markdown",
   "id": "6571cf29",
   "metadata": {},
   "source": [
    "3. Write the code to display a list of all of the columns in the dataset."
   ]
  },
  {
   "cell_type": "code",
   "execution_count": 6,
   "id": "2238de12",
   "metadata": {},
   "outputs": [
    {
     "data": {
      "text/plain": [
       "Index(['Date/Time', 'Temp (C)', 'Dew Point Temp (C)', 'Rel Hum (%)',\n",
       "       'Wind Spd (km/h)', 'Visibility (km)', 'Stn Press (kPa)', 'Weather'],\n",
       "      dtype='object')"
      ]
     },
     "execution_count": 6,
     "metadata": {},
     "output_type": "execute_result"
    }
   ],
   "source": [
    "df.columns"
   ]
  },
  {
   "cell_type": "code",
   "execution_count": 7,
   "id": "0c43aedd",
   "metadata": {},
   "outputs": [
    {
     "name": "stdout",
     "output_type": "stream",
     "text": [
      "<class 'pandas.core.frame.DataFrame'>\n",
      "RangeIndex: 8784 entries, 0 to 8783\n",
      "Data columns (total 8 columns):\n",
      " #   Column              Non-Null Count  Dtype  \n",
      "---  ------              --------------  -----  \n",
      " 0   Date/Time           8784 non-null   object \n",
      " 1   Temp (C)            8784 non-null   float64\n",
      " 2   Dew Point Temp (C)  8784 non-null   float64\n",
      " 3   Rel Hum (%)         8784 non-null   int64  \n",
      " 4   Wind Spd (km/h)     8784 non-null   int64  \n",
      " 5   Visibility (km)     8784 non-null   float64\n",
      " 6   Stn Press (kPa)     8784 non-null   float64\n",
      " 7   Weather             8784 non-null   object \n",
      "dtypes: float64(4), int64(2), object(2)\n",
      "memory usage: 549.1+ KB\n"
     ]
    }
   ],
   "source": [
    "df.info()"
   ]
  },
  {
   "cell_type": "markdown",
   "id": "45e8e96f",
   "metadata": {},
   "source": [
    "4.\tThe column names are unwieldy for our purposes. Rename them according to this list {date_time, temp_c, dew_point, relative_humidity, wind_speed, visibility, pressure, and weather}.  Keep a copy of the original columns so we can change them back  if needed at the end of our analysis."
   ]
  },
  {
   "cell_type": "code",
   "execution_count": 8,
   "id": "a10456f4",
   "metadata": {},
   "outputs": [],
   "source": [
    "# rename columns \n",
    "# {'Date/Time', 'Temp (C)', 'Dew Point Temp (C)', 'Rel Hum (%)','Wind Spd (km/h)', 'Visibility (km)', 'Stn Press (kPa)','Weather'} \n",
    "# to \n",
    "#{date_time, temp_c, dew_point, relative_humidity, wind_speed, visibility, pressure, and weather}"
   ]
  },
  {
   "cell_type": "code",
   "execution_count": 9,
   "id": "03b1d8cd",
   "metadata": {},
   "outputs": [
    {
     "name": "stdout",
     "output_type": "stream",
     "text": [
      "                Date/Time  Temp (C)  Dew Point Temp (C)  Rel Hum (%)  \\\n",
      "0     2012-01-01 00:00:00      -1.8                -3.9           86   \n",
      "1     2012-01-01 01:00:00      -1.8                -3.7           87   \n",
      "2     2012-01-01 02:00:00      -1.8                -3.4           89   \n",
      "3     2012-01-01 03:00:00      -1.5                -3.2           88   \n",
      "4     2012-01-01 04:00:00      -1.5                -3.3           88   \n",
      "...                   ...       ...                 ...          ...   \n",
      "8779  2012-12-31 19:00:00       0.1                -2.7           81   \n",
      "8780  2012-12-31 20:00:00       0.2                -2.4           83   \n",
      "8781  2012-12-31 21:00:00      -0.5                -1.5           93   \n",
      "8782  2012-12-31 22:00:00      -0.2                -1.8           89   \n",
      "8783  2012-12-31 23:00:00       0.0                -2.1           86   \n",
      "\n",
      "      Wind Spd (km/h)  Visibility (km)  Stn Press (kPa)               Weather  \n",
      "0                   4              8.0           101.24                   Fog  \n",
      "1                   4              8.0           101.24                   Fog  \n",
      "2                   7              4.0           101.26  Freezing Drizzle,Fog  \n",
      "3                   6              4.0           101.27  Freezing Drizzle,Fog  \n",
      "4                   7              4.8           101.23                   Fog  \n",
      "...               ...              ...              ...                   ...  \n",
      "8779               30              9.7           100.13                  Snow  \n",
      "8780               24              9.7           100.03                  Snow  \n",
      "8781               28              4.8            99.95                  Snow  \n",
      "8782               28              9.7            99.91                  Snow  \n",
      "8783               30             11.3            99.89                  Snow  \n",
      "\n",
      "[8784 rows x 8 columns]\n"
     ]
    }
   ],
   "source": [
    "data_frame_df = pd.DataFrame(df)\n",
    "print(data_frame_df)"
   ]
  },
  {
   "cell_type": "code",
   "execution_count": 10,
   "id": "c447b6f5",
   "metadata": {},
   "outputs": [
    {
     "name": "stdout",
     "output_type": "stream",
     "text": [
      "                date_time  temp_c  dew_point  relative_humidity  wind_speed  \\\n",
      "0     2012-01-01 00:00:00    -1.8       -3.9                 86           4   \n",
      "1     2012-01-01 01:00:00    -1.8       -3.7                 87           4   \n",
      "2     2012-01-01 02:00:00    -1.8       -3.4                 89           7   \n",
      "3     2012-01-01 03:00:00    -1.5       -3.2                 88           6   \n",
      "4     2012-01-01 04:00:00    -1.5       -3.3                 88           7   \n",
      "...                   ...     ...        ...                ...         ...   \n",
      "8779  2012-12-31 19:00:00     0.1       -2.7                 81          30   \n",
      "8780  2012-12-31 20:00:00     0.2       -2.4                 83          24   \n",
      "8781  2012-12-31 21:00:00    -0.5       -1.5                 93          28   \n",
      "8782  2012-12-31 22:00:00    -0.2       -1.8                 89          28   \n",
      "8783  2012-12-31 23:00:00     0.0       -2.1                 86          30   \n",
      "\n",
      "      visibility  pressure               weather  \n",
      "0            8.0    101.24                   Fog  \n",
      "1            8.0    101.24                   Fog  \n",
      "2            4.0    101.26  Freezing Drizzle,Fog  \n",
      "3            4.0    101.27  Freezing Drizzle,Fog  \n",
      "4            4.8    101.23                   Fog  \n",
      "...          ...       ...                   ...  \n",
      "8779         9.7    100.13                  Snow  \n",
      "8780         9.7    100.03                  Snow  \n",
      "8781         4.8     99.95                  Snow  \n",
      "8782         9.7     99.91                  Snow  \n",
      "8783        11.3     99.89                  Snow  \n",
      "\n",
      "[8784 rows x 8 columns]\n"
     ]
    }
   ],
   "source": [
    "data_frame_df.rename(columns = {'Date/Time':'date_time', 'Temp (C)':'temp_c', 'Dew Point Temp (C)':'dew_point',\n",
    "                           'Rel Hum (%)':'relative_humidity','Wind Spd (km/h)':'wind_speed','Visibility (km)':'visibility',\n",
    "                          'Stn Press (kPa)':'pressure','Weather':'weather'},\n",
    "                   inplace = True)\n",
    "print(data_frame_df)"
   ]
  },
  {
   "cell_type": "markdown",
   "id": "f762a3ad",
   "metadata": {},
   "source": [
    "5.\tMost of the data in the dataset are numerical, write the code to get some standard statistics for each column (e.g. count, mean, etc.)"
   ]
  },
  {
   "cell_type": "code",
   "execution_count": 11,
   "id": "0491fac3",
   "metadata": {},
   "outputs": [
    {
     "data": {
      "text/html": [
       "<div>\n",
       "<style scoped>\n",
       "    .dataframe tbody tr th:only-of-type {\n",
       "        vertical-align: middle;\n",
       "    }\n",
       "\n",
       "    .dataframe tbody tr th {\n",
       "        vertical-align: top;\n",
       "    }\n",
       "\n",
       "    .dataframe thead th {\n",
       "        text-align: right;\n",
       "    }\n",
       "</style>\n",
       "<table border=\"1\" class=\"dataframe\">\n",
       "  <thead>\n",
       "    <tr style=\"text-align: right;\">\n",
       "      <th></th>\n",
       "      <th>temp_c</th>\n",
       "      <th>dew_point</th>\n",
       "      <th>relative_humidity</th>\n",
       "      <th>wind_speed</th>\n",
       "      <th>visibility</th>\n",
       "      <th>pressure</th>\n",
       "    </tr>\n",
       "  </thead>\n",
       "  <tbody>\n",
       "    <tr>\n",
       "      <th>count</th>\n",
       "      <td>8784.000000</td>\n",
       "      <td>8784.000000</td>\n",
       "      <td>8784.000000</td>\n",
       "      <td>8784.000000</td>\n",
       "      <td>8784.000000</td>\n",
       "      <td>8784.000000</td>\n",
       "    </tr>\n",
       "    <tr>\n",
       "      <th>mean</th>\n",
       "      <td>8.798144</td>\n",
       "      <td>2.555294</td>\n",
       "      <td>67.431694</td>\n",
       "      <td>14.945469</td>\n",
       "      <td>27.664447</td>\n",
       "      <td>101.051623</td>\n",
       "    </tr>\n",
       "    <tr>\n",
       "      <th>std</th>\n",
       "      <td>11.687883</td>\n",
       "      <td>10.883072</td>\n",
       "      <td>16.918881</td>\n",
       "      <td>8.688696</td>\n",
       "      <td>12.622688</td>\n",
       "      <td>0.844005</td>\n",
       "    </tr>\n",
       "    <tr>\n",
       "      <th>min</th>\n",
       "      <td>-23.300000</td>\n",
       "      <td>-28.500000</td>\n",
       "      <td>18.000000</td>\n",
       "      <td>0.000000</td>\n",
       "      <td>0.200000</td>\n",
       "      <td>97.520000</td>\n",
       "    </tr>\n",
       "    <tr>\n",
       "      <th>25%</th>\n",
       "      <td>0.100000</td>\n",
       "      <td>-5.900000</td>\n",
       "      <td>56.000000</td>\n",
       "      <td>9.000000</td>\n",
       "      <td>24.100000</td>\n",
       "      <td>100.560000</td>\n",
       "    </tr>\n",
       "    <tr>\n",
       "      <th>50%</th>\n",
       "      <td>9.300000</td>\n",
       "      <td>3.300000</td>\n",
       "      <td>68.000000</td>\n",
       "      <td>13.000000</td>\n",
       "      <td>25.000000</td>\n",
       "      <td>101.070000</td>\n",
       "    </tr>\n",
       "    <tr>\n",
       "      <th>75%</th>\n",
       "      <td>18.800000</td>\n",
       "      <td>11.800000</td>\n",
       "      <td>81.000000</td>\n",
       "      <td>20.000000</td>\n",
       "      <td>25.000000</td>\n",
       "      <td>101.590000</td>\n",
       "    </tr>\n",
       "    <tr>\n",
       "      <th>max</th>\n",
       "      <td>33.000000</td>\n",
       "      <td>24.400000</td>\n",
       "      <td>100.000000</td>\n",
       "      <td>83.000000</td>\n",
       "      <td>48.300000</td>\n",
       "      <td>103.650000</td>\n",
       "    </tr>\n",
       "  </tbody>\n",
       "</table>\n",
       "</div>"
      ],
      "text/plain": [
       "            temp_c    dew_point  relative_humidity   wind_speed   visibility  \\\n",
       "count  8784.000000  8784.000000        8784.000000  8784.000000  8784.000000   \n",
       "mean      8.798144     2.555294          67.431694    14.945469    27.664447   \n",
       "std      11.687883    10.883072          16.918881     8.688696    12.622688   \n",
       "min     -23.300000   -28.500000          18.000000     0.000000     0.200000   \n",
       "25%       0.100000    -5.900000          56.000000     9.000000    24.100000   \n",
       "50%       9.300000     3.300000          68.000000    13.000000    25.000000   \n",
       "75%      18.800000    11.800000          81.000000    20.000000    25.000000   \n",
       "max      33.000000    24.400000         100.000000    83.000000    48.300000   \n",
       "\n",
       "          pressure  \n",
       "count  8784.000000  \n",
       "mean    101.051623  \n",
       "std       0.844005  \n",
       "min      97.520000  \n",
       "25%     100.560000  \n",
       "50%     101.070000  \n",
       "75%     101.590000  \n",
       "max     103.650000  "
      ]
     },
     "execution_count": 11,
     "metadata": {},
     "output_type": "execute_result"
    }
   ],
   "source": [
    "data_frame_df.describe()"
   ]
  },
  {
   "cell_type": "markdown",
   "id": "cf6e18c4",
   "metadata": {},
   "source": [
    "6.\tWrite the code to add a column named temp_f to the dataset that contains the temperature from temp_c represented in Fahrenheit. \n",
    "7.\tWrite the code to rearrange the columns in the dataset so temp_f appears immediately before temp_c."
   ]
  },
  {
   "cell_type": "code",
   "execution_count": 13,
   "id": "cf487688",
   "metadata": {},
   "outputs": [
    {
     "name": "stdout",
     "output_type": "stream",
     "text": [
      "                date_time  temp_f  temp_c  dew_point  relative_humidity  \\\n",
      "0     2012-01-01 00:00:00   28.76    -1.8       -3.9                 86   \n",
      "1     2012-01-01 01:00:00   28.76    -1.8       -3.7                 87   \n",
      "2     2012-01-01 02:00:00   28.76    -1.8       -3.4                 89   \n",
      "3     2012-01-01 03:00:00   29.30    -1.5       -3.2                 88   \n",
      "4     2012-01-01 04:00:00   29.30    -1.5       -3.3                 88   \n",
      "...                   ...     ...     ...        ...                ...   \n",
      "8779  2012-12-31 19:00:00   32.18     0.1       -2.7                 81   \n",
      "8780  2012-12-31 20:00:00   32.36     0.2       -2.4                 83   \n",
      "8781  2012-12-31 21:00:00   31.10    -0.5       -1.5                 93   \n",
      "8782  2012-12-31 22:00:00   31.64    -0.2       -1.8                 89   \n",
      "8783  2012-12-31 23:00:00   32.00     0.0       -2.1                 86   \n",
      "\n",
      "      wind_speed  visibility  pressure               weather  \n",
      "0              4         8.0    101.24                   Fog  \n",
      "1              4         8.0    101.24                   Fog  \n",
      "2              7         4.0    101.26  Freezing Drizzle,Fog  \n",
      "3              6         4.0    101.27  Freezing Drizzle,Fog  \n",
      "4              7         4.8    101.23                   Fog  \n",
      "...          ...         ...       ...                   ...  \n",
      "8779          30         9.7    100.13                  Snow  \n",
      "8780          24         9.7    100.03                  Snow  \n",
      "8781          28         4.8     99.95                  Snow  \n",
      "8782          28         9.7     99.91                  Snow  \n",
      "8783          30        11.3     99.89                  Snow  \n",
      "\n",
      "[8784 rows x 9 columns]\n"
     ]
    }
   ],
   "source": [
    "data_frame_df['temp_f'] = (data_frame_df['temp_c'] * 9/5) + 32 \n",
    "column_to_move = data_frame_df.pop(\"temp_f\")\n",
    "data_frame_df.insert(1, \"temp_f\", column_to_move)\n",
    "print(data_frame_df)"
   ]
  },
  {
   "cell_type": "markdown",
   "id": "d77bb663",
   "metadata": {},
   "source": [
    "8.\tWrite the code to display the data types of all the columns in the dataset."
   ]
  },
  {
   "cell_type": "code",
   "execution_count": 14,
   "id": "c531a356",
   "metadata": {},
   "outputs": [
    {
     "name": "stdout",
     "output_type": "stream",
     "text": [
      "date_time             object\n",
      "temp_f               float64\n",
      "temp_c               float64\n",
      "dew_point            float64\n",
      "relative_humidity      int64\n",
      "wind_speed             int64\n",
      "visibility           float64\n",
      "pressure             float64\n",
      "weather               object\n",
      "dtype: object\n"
     ]
    }
   ],
   "source": [
    "print(data_frame_df.dtypes)"
   ]
  },
  {
   "cell_type": "code",
   "execution_count": 15,
   "id": "83202a62",
   "metadata": {},
   "outputs": [
    {
     "name": "stdout",
     "output_type": "stream",
     "text": [
      "<class 'pandas.core.frame.DataFrame'>\n",
      "RangeIndex: 8784 entries, 0 to 8783\n",
      "Data columns (total 9 columns):\n",
      " #   Column             Non-Null Count  Dtype  \n",
      "---  ------             --------------  -----  \n",
      " 0   date_time          8784 non-null   object \n",
      " 1   temp_f             8784 non-null   float64\n",
      " 2   temp_c             8784 non-null   float64\n",
      " 3   dew_point          8784 non-null   float64\n",
      " 4   relative_humidity  8784 non-null   int64  \n",
      " 5   wind_speed         8784 non-null   int64  \n",
      " 6   visibility         8784 non-null   float64\n",
      " 7   pressure           8784 non-null   float64\n",
      " 8   weather            8784 non-null   object \n",
      "dtypes: float64(5), int64(2), object(2)\n",
      "memory usage: 617.8+ KB\n"
     ]
    }
   ],
   "source": [
    "data_frame_df.info()"
   ]
  },
  {
   "cell_type": "markdown",
   "id": "6645f8ec",
   "metadata": {},
   "source": [
    "9.\tYou’ll notice that the date_time column is not actually considered a date by Pandas.  Write the code to convert this column to a date/time column. Verify the conversion was successful."
   ]
  },
  {
   "cell_type": "code",
   "execution_count": 16,
   "id": "cedcbc56",
   "metadata": {},
   "outputs": [],
   "source": [
    "from datetime import datetime"
   ]
  },
  {
   "cell_type": "code",
   "execution_count": 17,
   "id": "7b9df39b",
   "metadata": {},
   "outputs": [
    {
     "name": "stdout",
     "output_type": "stream",
     "text": [
      "<class 'pandas.core.frame.DataFrame'>\n",
      "RangeIndex: 8784 entries, 0 to 8783\n",
      "Data columns (total 9 columns):\n",
      " #   Column             Non-Null Count  Dtype         \n",
      "---  ------             --------------  -----         \n",
      " 0   date_time          8784 non-null   datetime64[ns]\n",
      " 1   temp_f             8784 non-null   float64       \n",
      " 2   temp_c             8784 non-null   float64       \n",
      " 3   dew_point          8784 non-null   float64       \n",
      " 4   relative_humidity  8784 non-null   int64         \n",
      " 5   wind_speed         8784 non-null   int64         \n",
      " 6   visibility         8784 non-null   float64       \n",
      " 7   pressure           8784 non-null   float64       \n",
      " 8   weather            8784 non-null   object        \n",
      "dtypes: datetime64[ns](1), float64(5), int64(2), object(1)\n",
      "memory usage: 617.8+ KB\n"
     ]
    }
   ],
   "source": [
    "data_frame_df['date_time']=pd.to_datetime(data_frame_df['date_time'])\n",
    "data_frame_df.info()"
   ]
  },
  {
   "cell_type": "markdown",
   "id": "82c2327b",
   "metadata": {},
   "source": [
    "10.\tWrite the code to get a count of the different weather designations in the weather column and display top 10 weather categories."
   ]
  },
  {
   "cell_type": "code",
   "execution_count": 18,
   "id": "98a02051",
   "metadata": {},
   "outputs": [
    {
     "data": {
      "text/plain": [
       "weather\n",
       "Clear                      1326\n",
       "Cloudy                     1728\n",
       "Drizzle                      41\n",
       "Drizzle,Fog                  80\n",
       "Drizzle,Ice Pellets,Fog       1\n",
       "Drizzle,Snow                  2\n",
       "Drizzle,Snow,Fog             15\n",
       "Fog                         150\n",
       "Freezing Drizzle              7\n",
       "Freezing Drizzle,Fog          6\n",
       "Name: weather, dtype: int64"
      ]
     },
     "execution_count": 18,
     "metadata": {},
     "output_type": "execute_result"
    }
   ],
   "source": [
    "weathers = data_frame_df.groupby(\"weather\")[\"weather\"].count()\n",
    "weathers.head(10)"
   ]
  },
  {
   "cell_type": "markdown",
   "id": "f33ccb3f",
   "metadata": {},
   "source": [
    "11.\tWhich month of the year, the temp_f more than 90, humidity less than 50 , dew point more than 17, and the weather is Clear? Extract that data and save it to a new data frame."
   ]
  },
  {
   "cell_type": "code",
   "execution_count": 19,
   "id": "5287ce85",
   "metadata": {},
   "outputs": [
    {
     "data": {
      "text/html": [
       "<div>\n",
       "<style scoped>\n",
       "    .dataframe tbody tr th:only-of-type {\n",
       "        vertical-align: middle;\n",
       "    }\n",
       "\n",
       "    .dataframe tbody tr th {\n",
       "        vertical-align: top;\n",
       "    }\n",
       "\n",
       "    .dataframe thead th {\n",
       "        text-align: right;\n",
       "    }\n",
       "</style>\n",
       "<table border=\"1\" class=\"dataframe\">\n",
       "  <thead>\n",
       "    <tr style=\"text-align: right;\">\n",
       "      <th></th>\n",
       "      <th>date_time</th>\n",
       "      <th>temp_f</th>\n",
       "      <th>temp_c</th>\n",
       "      <th>dew_point</th>\n",
       "      <th>relative_humidity</th>\n",
       "      <th>wind_speed</th>\n",
       "      <th>visibility</th>\n",
       "      <th>pressure</th>\n",
       "      <th>weather</th>\n",
       "    </tr>\n",
       "  </thead>\n",
       "  <tbody>\n",
       "    <tr>\n",
       "      <th>5199</th>\n",
       "      <td>2012-08-04 15:00:00</td>\n",
       "      <td>91.04</td>\n",
       "      <td>32.8</td>\n",
       "      <td>18.8</td>\n",
       "      <td>44</td>\n",
       "      <td>17</td>\n",
       "      <td>24.1</td>\n",
       "      <td>101.39</td>\n",
       "      <td>Clear</td>\n",
       "    </tr>\n",
       "    <tr>\n",
       "      <th>5200</th>\n",
       "      <td>2012-08-04 16:00:00</td>\n",
       "      <td>90.50</td>\n",
       "      <td>32.5</td>\n",
       "      <td>18.5</td>\n",
       "      <td>44</td>\n",
       "      <td>15</td>\n",
       "      <td>24.1</td>\n",
       "      <td>101.34</td>\n",
       "      <td>Clear</td>\n",
       "    </tr>\n",
       "    <tr>\n",
       "      <th>5201</th>\n",
       "      <td>2012-08-04 17:00:00</td>\n",
       "      <td>90.50</td>\n",
       "      <td>32.5</td>\n",
       "      <td>19.8</td>\n",
       "      <td>47</td>\n",
       "      <td>13</td>\n",
       "      <td>24.1</td>\n",
       "      <td>101.32</td>\n",
       "      <td>Clear</td>\n",
       "    </tr>\n",
       "  </tbody>\n",
       "</table>\n",
       "</div>"
      ],
      "text/plain": [
       "               date_time  temp_f  temp_c  dew_point  relative_humidity  \\\n",
       "5199 2012-08-04 15:00:00   91.04    32.8       18.8                 44   \n",
       "5200 2012-08-04 16:00:00   90.50    32.5       18.5                 44   \n",
       "5201 2012-08-04 17:00:00   90.50    32.5       19.8                 47   \n",
       "\n",
       "      wind_speed  visibility  pressure weather  \n",
       "5199          17        24.1    101.39   Clear  \n",
       "5200          15        24.1    101.34   Clear  \n",
       "5201          13        24.1    101.32   Clear  "
      ]
     },
     "execution_count": 19,
     "metadata": {},
     "output_type": "execute_result"
    }
   ],
   "source": [
    "weather_report = data_frame_df.query('temp_f > 90 & relative_humidity < 50 & dew_point > 17 & weather == \"Clear\"')\n",
    "weather_report"
   ]
  },
  {
   "cell_type": "markdown",
   "id": "2b4febe7",
   "metadata": {},
   "source": [
    "12.\tExtract the month information from the date_time column and add a month column at the data frame. (example: dt.month)"
   ]
  },
  {
   "cell_type": "code",
   "execution_count": 20,
   "id": "24c6ccd0",
   "metadata": {},
   "outputs": [
    {
     "name": "stderr",
     "output_type": "stream",
     "text": [
      "C:\\Users\\jonat\\AppData\\Local\\Temp\\ipykernel_20664\\3304815617.py:1: SettingWithCopyWarning: \n",
      "A value is trying to be set on a copy of a slice from a DataFrame.\n",
      "Try using .loc[row_indexer,col_indexer] = value instead\n",
      "\n",
      "See the caveats in the documentation: https://pandas.pydata.org/pandas-docs/stable/user_guide/indexing.html#returning-a-view-versus-a-copy\n",
      "  weather_report['month']=weather_report['date_time'].dt.month\n"
     ]
    },
    {
     "data": {
      "text/html": [
       "<div>\n",
       "<style scoped>\n",
       "    .dataframe tbody tr th:only-of-type {\n",
       "        vertical-align: middle;\n",
       "    }\n",
       "\n",
       "    .dataframe tbody tr th {\n",
       "        vertical-align: top;\n",
       "    }\n",
       "\n",
       "    .dataframe thead th {\n",
       "        text-align: right;\n",
       "    }\n",
       "</style>\n",
       "<table border=\"1\" class=\"dataframe\">\n",
       "  <thead>\n",
       "    <tr style=\"text-align: right;\">\n",
       "      <th></th>\n",
       "      <th>date_time</th>\n",
       "      <th>temp_f</th>\n",
       "      <th>temp_c</th>\n",
       "      <th>dew_point</th>\n",
       "      <th>relative_humidity</th>\n",
       "      <th>wind_speed</th>\n",
       "      <th>visibility</th>\n",
       "      <th>pressure</th>\n",
       "      <th>weather</th>\n",
       "      <th>month</th>\n",
       "    </tr>\n",
       "  </thead>\n",
       "  <tbody>\n",
       "    <tr>\n",
       "      <th>5199</th>\n",
       "      <td>2012-08-04 15:00:00</td>\n",
       "      <td>91.04</td>\n",
       "      <td>32.8</td>\n",
       "      <td>18.8</td>\n",
       "      <td>44</td>\n",
       "      <td>17</td>\n",
       "      <td>24.1</td>\n",
       "      <td>101.39</td>\n",
       "      <td>Clear</td>\n",
       "      <td>8</td>\n",
       "    </tr>\n",
       "    <tr>\n",
       "      <th>5200</th>\n",
       "      <td>2012-08-04 16:00:00</td>\n",
       "      <td>90.50</td>\n",
       "      <td>32.5</td>\n",
       "      <td>18.5</td>\n",
       "      <td>44</td>\n",
       "      <td>15</td>\n",
       "      <td>24.1</td>\n",
       "      <td>101.34</td>\n",
       "      <td>Clear</td>\n",
       "      <td>8</td>\n",
       "    </tr>\n",
       "    <tr>\n",
       "      <th>5201</th>\n",
       "      <td>2012-08-04 17:00:00</td>\n",
       "      <td>90.50</td>\n",
       "      <td>32.5</td>\n",
       "      <td>19.8</td>\n",
       "      <td>47</td>\n",
       "      <td>13</td>\n",
       "      <td>24.1</td>\n",
       "      <td>101.32</td>\n",
       "      <td>Clear</td>\n",
       "      <td>8</td>\n",
       "    </tr>\n",
       "  </tbody>\n",
       "</table>\n",
       "</div>"
      ],
      "text/plain": [
       "               date_time  temp_f  temp_c  dew_point  relative_humidity  \\\n",
       "5199 2012-08-04 15:00:00   91.04    32.8       18.8                 44   \n",
       "5200 2012-08-04 16:00:00   90.50    32.5       18.5                 44   \n",
       "5201 2012-08-04 17:00:00   90.50    32.5       19.8                 47   \n",
       "\n",
       "      wind_speed  visibility  pressure weather  month  \n",
       "5199          17        24.1    101.39   Clear      8  \n",
       "5200          15        24.1    101.34   Clear      8  \n",
       "5201          13        24.1    101.32   Clear      8  "
      ]
     },
     "execution_count": 20,
     "metadata": {},
     "output_type": "execute_result"
    }
   ],
   "source": [
    "weather_report['month']=weather_report['date_time'].dt.month\n",
    "weather_report"
   ]
  },
  {
   "cell_type": "markdown",
   "id": "4b625aa8",
   "metadata": {},
   "source": [
    "# In the month of August all of those conditions are met!"
   ]
  },
  {
   "cell_type": "markdown",
   "id": "ad267650",
   "metadata": {},
   "source": [
    "13.\tSave your original dataframe to (‘weather_2012_new.csv’) – ensure your file does not contain the index column of the dataset."
   ]
  },
  {
   "cell_type": "code",
   "execution_count": 22,
   "id": "6f0c4f5f",
   "metadata": {},
   "outputs": [],
   "source": [
    "weather_report.to_csv('weather_2012_new.csv', index=False)"
   ]
  },
  {
   "cell_type": "code",
   "execution_count": null,
   "id": "e99fe9a1",
   "metadata": {},
   "outputs": [],
   "source": []
  },
  {
   "cell_type": "code",
   "execution_count": null,
   "id": "320a2b36",
   "metadata": {},
   "outputs": [],
   "source": []
  }
 ],
 "metadata": {
  "kernelspec": {
   "display_name": "Python 3 (ipykernel)",
   "language": "python",
   "name": "python3"
  },
  "language_info": {
   "codemirror_mode": {
    "name": "ipython",
    "version": 3
   },
   "file_extension": ".py",
   "mimetype": "text/x-python",
   "name": "python",
   "nbconvert_exporter": "python",
   "pygments_lexer": "ipython3",
   "version": "3.9.13"
  }
 },
 "nbformat": 4,
 "nbformat_minor": 5
}
